{
 "cells": [
  {
   "cell_type": "markdown",
   "metadata": {},
   "source": [
    "### Below code is practice for excel using pandas. This opens our Apartment renovation excel sheet, reads income details from each owner and displays how much everyone contributed."
   ]
  },
  {
   "cell_type": "code",
   "execution_count": 11,
   "metadata": {},
   "outputs": [
    {
     "data": {
      "text/html": [
       "<div>\n",
       "<style scoped>\n",
       "    .dataframe tbody tr th:only-of-type {\n",
       "        vertical-align: middle;\n",
       "    }\n",
       "\n",
       "    .dataframe tbody tr th {\n",
       "        vertical-align: top;\n",
       "    }\n",
       "\n",
       "    .dataframe thead th {\n",
       "        text-align: right;\n",
       "    }\n",
       "</style>\n",
       "<table border=\"1\" class=\"dataframe\">\n",
       "  <thead>\n",
       "    <tr style=\"text-align: right;\">\n",
       "      <th></th>\n",
       "      <th>Amount</th>\n",
       "    </tr>\n",
       "  </thead>\n",
       "  <tbody>\n",
       "    <tr>\n",
       "      <th>Anbu</th>\n",
       "      <td>450000</td>\n",
       "    </tr>\n",
       "    <tr>\n",
       "      <th>Ashok</th>\n",
       "      <td>500000</td>\n",
       "    </tr>\n",
       "    <tr>\n",
       "      <th>Nirmal</th>\n",
       "      <td>500000</td>\n",
       "    </tr>\n",
       "    <tr>\n",
       "      <th>Vinoth</th>\n",
       "      <td>480000</td>\n",
       "    </tr>\n",
       "    <tr>\n",
       "      <th>Total</th>\n",
       "      <td>1930000</td>\n",
       "    </tr>\n",
       "  </tbody>\n",
       "</table>\n",
       "</div>"
      ],
      "text/plain": [
       "         Amount\n",
       "Anbu     450000\n",
       "Ashok    500000\n",
       "Nirmal   500000\n",
       "Vinoth   480000\n",
       "Total   1930000"
      ]
     },
     "execution_count": 11,
     "metadata": {},
     "output_type": "execute_result"
    }
   ],
   "source": [
    "import pandas as pd\n",
    "jasmine=pd.read_excel('data/Jasmine.xlsx','Jasmine Income')\n",
    "jasmine=jasmine.dropna(how='any')\n",
    "jasmine.loc[:,'Detail'] = jasmine['Detail'].str.title()\n",
    "jasmine=jasmine.groupby('Detail').sum()\n",
    "total=pd.DataFrame({'Amount':jasmine.sum()})\n",
    "total.rename(index={'Amount':'Total'}, inplace=True)\n",
    "jasmine=jasmine.append(total)\n",
    "jasmine"
   ]
  },
  {
   "cell_type": "code",
   "execution_count": 13,
   "metadata": {},
   "outputs": [
    {
     "data": {
      "text/plain": [
       "<matplotlib.axes._subplots.AxesSubplot at 0x1d68f38a0b8>"
      ]
     },
     "execution_count": 13,
     "metadata": {},
     "output_type": "execute_result"
    },
    {
     "data": {
      "image/png": "[encoded data removed]",
      "text/plain": [
       "<Figure size 432x288 with 1 Axes>"
      ]
     },
     "metadata": {
      "needs_background": "light"
     },
     "output_type": "display_data"
    }
   ],
   "source": [
    "jasmine = jasmine.drop(['Total'])\n",
    "jasmine.plot.bar()"
   ]
  },
  {
   "cell_type": "markdown",
   "metadata": {},
   "source": [
    "### For usage of Lambda Function. This will convert string values to float and calculate total of bank statement"
   ]
  },
  {
   "cell_type": "code",
   "execution_count": 19,
   "metadata": {},
   "outputs": [
    {
     "name": "stdout",
     "output_type": "stream",
     "text": [
      "income =  573019.47 \n",
      "expense =  673567.02 \n",
      "balance = -100547.55\n"
     ]
    }
   ],
   "source": [
    "import pandas as pd\n",
    "axis=pd.read_excel('data/Axis.xls')       # not including file as it is my bank statement\n",
    "func = (lambda a: 0.00 if str(a).strip()=='' else float(a))\n",
    "axis['DR'] = axis['DR'].apply(func)\n",
    "axis['CR'] = axis['CR'].apply(func)\n",
    "exp = axis['DR'].sum()\n",
    "inc = axis['CR'].sum()\n",
    "balance = inc - exp\n",
    "print('income = ', inc, '\\nexpense = ', exp, '\\nbalance = {:10.2f}'.format(balance))"
   ]
  }
 ],
 "metadata": {
  "kernelspec": {
   "display_name": "Python 3",
   "language": "python",
   "name": "python3"
  },
  "language_info": {
   "codemirror_mode": {
    "name": "ipython",
    "version": 3
   },
   "file_extension": ".py",
   "mimetype": "text/x-python",
   "name": "python",
   "nbconvert_exporter": "python",
   "pygments_lexer": "ipython3",
   "version": "3.7.1"
  }
 },
 "nbformat": 4,
 "nbformat_minor": 2
}
